{
 "cells": [
  {
   "cell_type": "code",
   "execution_count": 15,
   "id": "3fe63b24",
   "metadata": {},
   "outputs": [
    {
     "name": "stdout",
     "output_type": "stream",
     "text": [
      "Enter number :1\n",
      "Factorial of 1 is 1\n"
     ]
    }
   ],
   "source": [
    "#Q11 Write a python program to find the factorial of a number?\n",
    "\n",
    "factorial = 1\n",
    "num=int(input('Enter number :'))\n",
    "if num < 0:\n",
    "    print(\"Negative numbers don't have factorials\")\n",
    "elif num == 0:\n",
    "    print(\"The factorial of zero is one\")\n",
    "else:\n",
    "    for i in range(1,num + 1):\n",
    "        factorial = factorial*i\n",
    "    print(\"Factorial of\",num,\"is\",factorial)"
   ]
  },
  {
   "cell_type": "code",
   "execution_count": 17,
   "id": "033ebaca",
   "metadata": {},
   "outputs": [
    {
     "name": "stdout",
     "output_type": "stream",
     "text": [
      "Enter number :1\n",
      "It is composite number\n"
     ]
    }
   ],
   "source": [
    "#Q12 Write a python program to find whether a number is prime or composite?\n",
    "a = int(input('Enter number :'))\n",
    "times=0\n",
    "i=1\n",
    "while(i<=a):\n",
    "    if(a%i==0):\n",
    "        times=times+1\n",
    "    i=i+1\n",
    "if(times==2):\n",
    "    print(\"It is a prime number\")\n",
    "else:\n",
    "    print(\"It is composite number\")"
   ]
  },
  {
   "cell_type": "code",
   "execution_count": 19,
   "id": "c082039b",
   "metadata": {},
   "outputs": [
    {
     "name": "stdout",
     "output_type": "stream",
     "text": [
      "String:abhbhB\n",
      "Not a palindrome\n"
     ]
    }
   ],
   "source": [
    "#Q13 Write a python program to check whether a given string is palindrome or not?\n",
    "my_str = input(\"String:\")\n",
    "my_str = my_str.casefold()\n",
    "\n",
    "rev_str = reversed(my_str)\n",
    "\n",
    "if list(my_str) == list(rev_str):\n",
    "    print(\"It is palindrome\")\n",
    "else:\n",
    "    print(\"Not a palindrome\")"
   ]
  },
  {
   "cell_type": "code",
   "execution_count": 40,
   "id": "1422ba12",
   "metadata": {},
   "outputs": [
    {
     "name": "stdout",
     "output_type": "stream",
     "text": [
      "Hypotenuse = 5.0\n",
      "Adjacent = 4.0\n",
      "Opposite = 3.0\n",
      "Answer\n"
     ]
    }
   ],
   "source": [
    "#Q14 Write a Python program to get the third side of right-angled triangle from two given sides?\n",
    "\n",
    "def pythagoras(opposite_side,adjacent_side,hypotenuse):\n",
    "    if opposite_side == str(\"x\"):\n",
    "        return (\"Opposite = \" + str(((hypotenuse**2) - (adjacent_side**2))**0.5))\n",
    "    elif adjacent_side == str(\"x\"):\n",
    "        return (\"Adjacent = \" + str(((hypotenuse**2) - (opposite_side**2))**0.5))\n",
    "    elif hypotenuse == str(\"x\"):\n",
    "        return (\"Hypotenuse = \" + str(((opposite_side**2) + (adjacent_side**2))**0.5))\n",
    "    else:\n",
    "        return (\"Answer\")\n",
    "    \n",
    "    \n",
    "print(pythagoras(3,4,'x'))\n",
    "print(pythagoras(3,'x',5))\n",
    "print(pythagoras('x',4,5))\n",
    "print(pythagoras(3,4,5))"
   ]
  },
  {
   "cell_type": "code",
   "execution_count": 33,
   "id": "9a07b468",
   "metadata": {},
   "outputs": [
    {
     "name": "stdout",
     "output_type": "stream",
     "text": [
      "Enter the : aaaa\n",
      "{'a': 4}\n"
     ]
    }
   ],
   "source": [
    "#Q15 Write a python program to print the frequency of each of the characters present in each string?\n",
    "\n",
    "strng = input(\"Enter the : \")\n",
    "d = dict()\n",
    "for c in strng:\n",
    "    if c in d:\n",
    "        d[c]=d[c] + 1\n",
    "    else:\n",
    "        d[c]=1\n",
    "print(d)"
   ]
  }
 ],
 "metadata": {
  "kernelspec": {
   "display_name": "Python 3 (ipykernel)",
   "language": "python",
   "name": "python3"
  },
  "language_info": {
   "codemirror_mode": {
    "name": "ipython",
    "version": 3
   },
   "file_extension": ".py",
   "mimetype": "text/x-python",
   "name": "python",
   "nbconvert_exporter": "python",
   "pygments_lexer": "ipython3",
   "version": "3.9.12"
  }
 },
 "nbformat": 4,
 "nbformat_minor": 5
}
